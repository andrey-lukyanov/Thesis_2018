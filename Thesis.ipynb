{
 "cells": [
  {
   "cell_type": "markdown",
   "metadata": {},
   "source": [
    "## Анализ Рисков с помощью VaR"
   ]
  },
  {
   "cell_type": "code",
   "execution_count": 1,
   "metadata": {},
   "outputs": [],
   "source": [
    "import pandas as pd\n",
    "import pymongo\n",
    "import datetime\n",
    "import numpy as np\n",
    "from statsmodels.stats.weightstats import zconfint\n",
    "import matplotlib.pyplot as plt \n",
    "%matplotlib inline"
   ]
  },
  {
   "cell_type": "markdown",
   "metadata": {},
   "source": [
    "У нас слишком много данных, чтобы работать с ними в лоб, поэтому я воспользовался базой данных MongoDB, чтобы ускорить процесс работы с данными торговых операций. В дальнейшем, я действительно убедился, что MongoDB действительно использует гораздо меньше оперативной памяти, чем если бы я все считывал из исходных файлов."
   ]
  },
  {
   "cell_type": "code",
   "execution_count": 2,
   "metadata": {},
   "outputs": [],
   "source": [
    "def get_db_object():\n",
    "    connection = pymongo.MongoClient('localhost', 27017)\n",
    "    database = connection.MICEX\n",
    "    return database"
   ]
  },
  {
   "cell_type": "markdown",
   "metadata": {},
   "source": [
    "Функция, которая импортирует данные с опцией для возможного импорта данных за определенный период."
   ]
  },
  {
   "cell_type": "code",
   "execution_count": 4,
   "metadata": {},
   "outputs": [],
   "source": [
    "def import_data(seccode):\n",
    "    micex_db = get_db_object()\n",
    "    query = {\n",
    "        \"seccode\": seccode#, \n",
    "    #    \"$and\": \n",
    "    #    [ \n",
    "    #        { \"datetime\": { \"$gt\": start } }, \n",
    "    #        { \"datetime\": { \"$lt\": end } } \n",
    "    #    ]\n",
    "    }\n",
    "    projection = {\n",
    "        \"_id\": 0,\n",
    "        \"volume\": 0,\n",
    "        \"seccode\": 0\n",
    "    }\n",
    "    data = pd.DataFrame(list(micex_db.trade_logs.find(query, projection)))\n",
    "    return data"
   ]
  },
  {
   "cell_type": "markdown",
   "metadata": {},
   "source": [
    "Для подсчета VaR я использую нормальное распределение с уровнем доверия $0.05$. Параметр Frequency показывает как часто за весь период я считаю VaR."
   ]
  },
  {
   "cell_type": "code",
   "execution_count": 9,
   "metadata": {},
   "outputs": [],
   "source": [
    "def VaR(data, freq):\n",
    "       \n",
    "    intervals = np.linspace(0, data.shape[0] - 1, num=freq)\n",
    "    intervals = [int(i) for i in intervals]\n",
    "    dates = [(data.datetime.iloc[interval] - data.datetime.iloc[0]).days for interval in intervals]\n",
    "    VaRs = []\n",
    "    prices = [data.price.iloc[i] for i in intervals]\n",
    "    data.price = data.price/data.price.iloc[0]\n",
    "    \n",
    "\n",
    "    for i in intervals:\n",
    "        if i == 0:\n",
    "            next\n",
    "        else:\n",
    "            VaRs.append(zconfint(data[0:i].price))\n",
    "#            print(dates[j], zconfint(data[0:i].price))\n",
    "\n",
    "    VaR_lower = [((1 - VaR[0]) * prices[0]) for VaR in VaRs]\n",
    "    return VaR_lower, dates, prices"
   ]
  },
  {
   "cell_type": "code",
   "execution_count": 18,
   "metadata": {},
   "outputs": [],
   "source": [
    "def plot_VaR(seccode, VaR, dates):\n",
    "    plt.plot(dates[1:], VaR, c = 'b')\n",
    "    plt.xlabel('Days')\n",
    "    plt.ylabel('Loss per unit of stock, RUB')\n",
    "    plt.title(seccode)\n",
    "    plt.show()"
   ]
  },
  {
   "cell_type": "code",
   "execution_count": 26,
   "metadata": {},
   "outputs": [],
   "source": [
    "def import_and_plot(seccode, frequency):\n",
    "    start_time = datetime.datetime.now()\n",
    "    data = import_data(seccode)\n",
    "    VaRs, dates, prices = VaR(data, 20)\n",
    "    finish_time = datetime.datetime.now()\n",
    "    print(\"Time spent:\", finish_time - start_time)\n",
    "    plot_VaR(seccode, VaRs, dates)\n",
    "    "
   ]
  },
  {
   "cell_type": "code",
   "execution_count": 27,
   "metadata": {},
   "outputs": [
    {
     "name": "stdout",
     "output_type": "stream",
     "text": [
      "Time spent:  0:02:11.171502\n"
     ]
    },
    {
     "data": {
      "image/png": "[encoded data removed]",
      "text/plain": [
       "<Figure size 432x288 with 1 Axes>"
      ]
     },
     "metadata": {},
     "output_type": "display_data"
    }
   ],
   "source": [
    "import_and_plot(seccode = 'LKOH', frequency = 36)"
   ]
  },
  {
   "cell_type": "code",
   "execution_count": 28,
   "metadata": {},
   "outputs": [
    {
     "name": "stdout",
     "output_type": "stream",
     "text": [
      "Time spent:  0:04:19.406340\n"
     ]
    },
    {
     "data": {
      "image/png": "[encoded data removed]",
      "text/plain": [
       "<Figure size 432x288 with 1 Axes>"
      ]
     },
     "metadata": {},
     "output_type": "display_data"
    }
   ],
   "source": [
    "import_and_plot(seccode = 'SBER', frequency = 36)"
   ]
  },
  {
   "cell_type": "code",
   "execution_count": 29,
   "metadata": {},
   "outputs": [
    {
     "name": "stdout",
     "output_type": "stream",
     "text": [
      "Time spent:  0:03:05.281101\n"
     ]
    },
    {
     "data": {
      "image/png": "[encoded data removed]",
      "text/plain": [
       "<Figure size 432x288 with 1 Axes>"
      ]
     },
     "metadata": {},
     "output_type": "display_data"
    }
   ],
   "source": [
    "import_and_plot(seccode = 'GAZP', frequency = 36)"
   ]
  },
  {
   "cell_type": "code",
   "execution_count": 30,
   "metadata": {},
   "outputs": [],
   "source": [
    "%%bash\n",
    "say finished"
   ]
  }
 ],
 "metadata": {
  "kernelspec": {
   "display_name": "Python 3",
   "language": "python",
   "name": "python3"
  },
  "language_info": {
   "codemirror_mode": {
    "name": "ipython",
    "version": 3
   },
   "file_extension": ".py",
   "mimetype": "text/x-python",
   "name": "python",
   "nbconvert_exporter": "python",
   "pygments_lexer": "ipython3",
   "version": "3.6.2"
  }
 },
 "nbformat": 4,
 "nbformat_minor": 2
}
